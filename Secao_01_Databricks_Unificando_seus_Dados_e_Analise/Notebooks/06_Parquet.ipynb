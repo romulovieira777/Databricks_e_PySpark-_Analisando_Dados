{
 "cells": [
  {
   "cell_type": "code",
   "execution_count": 0,
   "metadata": {
    "application/vnd.databricks.v1+cell": {
     "cellMetadata": {
      "byteLimit": 2048000,
      "rowLimit": 10000
     },
     "inputWidgets": {},
     "nuid": "d5ce691e-9d38-440c-9b0e-c57f7071c273",
     "showTitle": true,
     "title": "Criação de um dataframe com dados"
    }
   },
   "outputs": [
    {
     "output_type": "stream",
     "name": "stdout",
     "output_type": "stream",
     "text": [
      "+-------------+-----------+-------------+---------+------+-------+\n|Primeiro_Nome|Ultimo_Nome|Nacionalidade| Trabalho|Genero|Salario|\n+-------------+-----------+-------------+---------+------+-------+\n|     Grimaldo|   Oliveira|   Brasileira|Professor|     M|   3000|\n|          Ana|     Santos|   Portuguesa|    Atriz|     F|   4000|\n|      Roberto|     Carlos|   Brasileira| Analista|     M|   4000|\n|        Maria|   Santanna|     Italiana| Dentista|     F|   6000|\n|        Jeane|    Andrade|     francesa|   Medica|     F|   7000|\n+-------------+-----------+-------------+---------+------+-------+\n\n"
     ]
    }
   ],
   "source": [
    "# Criando um dataframe com dados fixos\n",
    "dados = [\n",
    "  (\"Grimaldo\", \"Oliveira\", \"Brasileira\", \"Professor\", \"M\", 3000),\n",
    "  (\"Ana\", \"Santos\", \"Portuguesa\", \"Atriz\", \"F\", 4000),\n",
    "  (\"Roberto\", \"Carlos\", \"Brasileira\", \"Analista\", \"M\", 4000),\n",
    "  (\"Maria\", \"Santanna\", \"Italiana\", \"Dentista\", \"F\", 6000),\n",
    "  (\"Jeane\", \"Andrade\", \"Portuguesa\", \"Medica\", \"F\", 7000)\n",
    "]\n",
    "colunas = [\"Primeiro_Nome\", \"Ultimo_Nome\", \"Nacionalidade\", \"Trabalho\", \"Genero\", \"Salario\"]\n",
    "datafparquet = spark.createDataFrame(dados, colunas)\n",
    "datafparquet.show()"
   ]
  },
  {
   "cell_type": "code",
   "execution_count": 0,
   "metadata": {
    "application/vnd.databricks.v1+cell": {
     "cellMetadata": {
      "byteLimit": 2048000,
      "rowLimit": 10000
     },
     "inputWidgets": {},
     "nuid": "6be755ac-ecd6-4cbe-b324-04cc0995011b",
     "showTitle": true,
     "title": "Gravando o arquivo parquet"
    }
   },
   "outputs": [],
   "source": [
    "# Criando o arquivo parquet\n",
    "datafparquet.write.parquet(\"/FileStore/tables/parquet/pessoal.parquet\")"
   ]
  },
  {
   "cell_type": "code",
   "execution_count": 0,
   "metadata": {
    "application/vnd.databricks.v1+cell": {
     "cellMetadata": {
      "byteLimit": 2048000,
      "rowLimit": 10000
     },
     "inputWidgets": {},
     "nuid": "ff42015f-bd4c-48db-85e2-a6087e31db36",
     "showTitle": true,
     "title": "Subscrevendo o arquivo parquet"
    }
   },
   "outputs": [],
   "source": [
    "# Permite uma atualização do arquivo parquet\n",
    "datafparquet.write.mode(\"overwrite\").parquet(\"/FileStore/tables/parquet/pessoal.parquet\")"
   ]
  },
  {
   "cell_type": "code",
   "execution_count": 0,
   "metadata": {
    "application/vnd.databricks.v1+cell": {
     "cellMetadata": {
      "byteLimit": 2048000,
      "rowLimit": 10000
     },
     "inputWidgets": {},
     "nuid": "2bbae4d6-c95a-4170-9965-bf13f0c21653",
     "showTitle": true,
     "title": "Lendo o arquivo parquet e guardando em um dataframe"
    }
   },
   "outputs": [
    {
     "output_type": "stream",
     "name": "stdout",
     "output_type": "stream",
     "text": [
      "+-------------+-----------+-------------+---------+------+-------+\n|Primeiro_Nome|Ultimo_Nome|Nacionalidade| Trabalho|Genero|Salario|\n+-------------+-----------+-------------+---------+------+-------+\n|     Grimaldo|   Oliveira|   Brasileira|Professor|     M|   3000|\n|      Roberto|     Carlos|   Brasileira| Analista|     M|   4000|\n|        Maria|   Santanna|     Italiana| Dentista|     F|   6000|\n|        Jeane|    Andrade|     francesa|   Medica|     F|   7000|\n|          Ana|     Santos|   Portuguesa|    Atriz|     F|   4000|\n+-------------+-----------+-------------+---------+------+-------+\n\n"
     ]
    }
   ],
   "source": [
    "# Realizando uma atualização do arquivo parquet\n",
    "datafleitura = spark.read.parquet(\"/FileStore/tables/parquet/pessoal.parquet\")\n",
    "datafleitura.show()"
   ]
  },
  {
   "cell_type": "code",
   "execution_count": 0,
   "metadata": {
    "application/vnd.databricks.v1+cell": {
     "cellMetadata": {
      "byteLimit": 2048000,
      "rowLimit": 10000
     },
     "inputWidgets": {},
     "nuid": "ad413cc4-7a76-432d-9468-224fba00bd77",
     "showTitle": true,
     "title": "Realizando uma consuilta SQL"
    }
   },
   "outputs": [
    {
     "output_type": "stream",
     "name": "stdout",
     "output_type": "stream",
     "text": [
      "+-------------+-----------+-------------+--------+------+-------+\n|Primeiro_Nome|Ultimo_Nome|Nacionalidade|Trabalho|Genero|Salario|\n+-------------+-----------+-------------+--------+------+-------+\n|        Maria|   Santanna|     Italiana|Dentista|     F|   6000|\n|        Jeane|    Andrade|     francesa|  Medica|     F|   7000|\n+-------------+-----------+-------------+--------+------+-------+\n\n"
     ]
    }
   ],
   "source": [
    "# Criando uma consulta em SQL\n",
    "datafleitura.createOrReplaceTempView(\"Tabela_Parquet\")\n",
    "ResultSQL = spark.sql(\"SELECT * FROM Tabela_Parquet WHERE salario >= 6000\")\n",
    "ResultSQL.show()"
   ]
  }
 ],
 "metadata": {
  "application/vnd.databricks.v1+notebook": {
   "dashboards": [],
   "language": "python",
   "notebookMetadata": {
    "pythonIndentUnit": 2
   },
   "notebookName": "06_Parquet",
   "widgets": {}
  }
 },
 "nbformat": 4,
 "nbformat_minor": 0
}
