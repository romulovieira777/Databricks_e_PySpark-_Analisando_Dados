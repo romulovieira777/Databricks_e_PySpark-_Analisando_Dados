{
 "cells": [
  {
   "cell_type": "code",
   "execution_count": 0,
   "metadata": {
    "application/vnd.databricks.v1+cell": {
     "cellMetadata": {
      "byteLimit": 2048000,
      "rowLimit": 10000
     },
     "inputWidgets": {},
     "nuid": "d768d2f1-c3dd-4c61-ab6e-a4cab163eb87",
     "showTitle": true,
     "title": "Criação de um arquivo com dados"
    }
   },
   "outputs": [
    {
     "output_type": "stream",
     "name": "stdout",
     "output_type": "stream",
     "text": [
      "+-------------+-----------+-------------+---------+------+-------+\n|Primeiro_Nome|Ultimo_Nome|Nacionalidade| Trabalho|Genero|Salario|\n+-------------+-----------+-------------+---------+------+-------+\n|     Grimaldo|   Oliveira|   Brasileira|Professor|     M|   3000|\n|          Ana|     Santos|   Portuguesa|    Atriz|     F|   4000|\n|      Roberto|     Carlos|   Brasileira| Analista|     M|   4000|\n|        Maria|   Santanna|     Italiana| Dentista|     F|   6000|\n|        Jeane|    Andrade|      Inglesa|   Medica|     F|   7000|\n+-------------+-----------+-------------+---------+------+-------+\n\n"
     ]
    }
   ],
   "source": [
    "# Criando um dataframe com dados fixos\n",
    "dados = [\n",
    "  (\"Grimaldo\", \"Oliveira\", \"Brasileira\", \"Professor\", \"M\", 3000),\n",
    "  (\"Ana\", \"Santos\", \"Portuguesa\", \"Atriz\", \"F\", 4000),\n",
    "  (\"Roberto\", \"Carlos\", \"Brasileira\", \"Analista\", \"M\", 4000),\n",
    "  (\"Maria\", \"Santanna\", \"Italiana\", \"Dentista\", \"F\", 6000),\n",
    "  (\"Jeane\", \"Andrade\", \"Inglesa\", \"Medica\", \"F\", 7000)\n",
    "]\n",
    "colunas = [\"Primeiro_Nome\", \"Ultimo_Nome\", \"Nacionalidade\", \"Trabalho\", \"Genero\", \"Salario\"]\n",
    "datafparquet = spark.createDataFrame(dados, colunas)\n",
    "datafparquet.show()"
   ]
  },
  {
   "cell_type": "code",
   "execution_count": 0,
   "metadata": {
    "application/vnd.databricks.v1+cell": {
     "cellMetadata": {
      "byteLimit": 2048000,
      "rowLimit": 10000
     },
     "inputWidgets": {},
     "nuid": "a01b4a18-c739-4a28-adc1-792f25384a67",
     "showTitle": true,
     "title": "Particionando os dados do arquivo parquet em grupos"
    }
   },
   "outputs": [],
   "source": [
    "# Particionando os dados em um arquivo parquet\n",
    "datafparquet.write.partitionBy(\"Nacionalidade\", \"salario\").mode(\"overwrite\").parquet(\"/FileStore/tables/parquet/pessoal.parquet\")"
   ]
  },
  {
   "cell_type": "code",
   "execution_count": 0,
   "metadata": {
    "application/vnd.databricks.v1+cell": {
     "cellMetadata": {
      "byteLimit": 2048000,
      "rowLimit": 10000
     },
     "inputWidgets": {},
     "nuid": "6e00e883-2e8f-4f5b-a7cc-c31b225813bd",
     "showTitle": true,
     "title": "Exibindo os dados do parquet cuja a nacionalidade é brasileira"
    }
   },
   "outputs": [
    {
     "output_type": "stream",
     "name": "stdout",
     "output_type": "stream",
     "text": [
      "+-------------+-----------+---------+------+-------+\n|Primeiro_Nome|Ultimo_Nome|Trabalho |Genero|salario|\n+-------------+-----------+---------+------+-------+\n|Grimaldo     |Oliveira   |Professor|M     |3000   |\n|Roberto      |Carlos     |Analista |M     |4000   |\n+-------------+-----------+---------+------+-------+\n\n"
     ]
    }
   ],
   "source": [
    "# Lendo o arquivo particionado do parquet\n",
    "datafnacional = spark.read.parquet(\"/FileStore/tables/parquet/pessoal.parquet/Nacionalidade=Brasileira\")\n",
    "datafnacional.show(truncate=False)"
   ]
  },
  {
   "cell_type": "code",
   "execution_count": 0,
   "metadata": {
    "application/vnd.databricks.v1+cell": {
     "cellMetadata": {
      "byteLimit": 2048000,
      "rowLimit": 10000
     },
     "inputWidgets": {},
     "nuid": "03def0e6-1be1-4992-be66-81bfd889eaae",
     "showTitle": true,
     "title": "Realizando uma pesquisa via SQL no arquivo parquet particionado"
    }
   },
   "outputs": [
    {
     "output_type": "stream",
     "name": "stdout",
     "output_type": "stream",
     "text": [
      "+-------------+-----------+---------+------+-------+\n|Primeiro_Nome|Ultimo_Nome| Trabalho|Genero|salario|\n+-------------+-----------+---------+------+-------+\n|     Grimaldo|   Oliveira|Professor|     M|   3000|\n+-------------+-----------+---------+------+-------+\n\n"
     ]
    }
   ],
   "source": [
    "# Consultando diretamente o arquivo parquet particionado via SQL\n",
    "spark.sql(\"CREATE OR REPLACE TEMPORARY VIEW Cidadao USING parquet OPTIONS (path \\\"/FileStore/tables/parquet/pessoal.parquet/Nacionalidade=Brasileira\\\")\")\n",
    "spark.sql(\"SELECT * FROM Cidadao WHERE Ultimo_nome = 'Oliveira'\").show()"
   ]
  }
 ],
 "metadata": {
  "application/vnd.databricks.v1+notebook": {
   "dashboards": [],
   "language": "python",
   "notebookMetadata": {
    "pythonIndentUnit": 2
   },
   "notebookName": "07_Particionamento_Parquet",
   "widgets": {}
  }
 },
 "nbformat": 4,
 "nbformat_minor": 0
}
