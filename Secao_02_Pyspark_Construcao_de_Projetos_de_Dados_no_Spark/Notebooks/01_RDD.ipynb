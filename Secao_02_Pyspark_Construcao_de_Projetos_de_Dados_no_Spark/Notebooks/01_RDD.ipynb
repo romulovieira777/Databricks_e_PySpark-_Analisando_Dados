{
 "cells": [
  {
   "cell_type": "code",
   "execution_count": 0,
   "metadata": {
    "application/vnd.databricks.v1+cell": {
     "cellMetadata": {
      "byteLimit": 2048000,
      "rowLimit": 10000
     },
     "inputWidgets": {},
     "nuid": "ce8b3051-91f9-4be9-b6d8-76f8f2b85388",
     "showTitle": true,
     "title": "Treinamento Pyspark Primeiro Script - RDD e Operações"
    }
   },
   "outputs": [
    {
     "output_type": "stream",
     "name": "stdout",
     "output_type": "stream",
     "text": [
      "3.9.5 (default, Nov 23 2021, 15:27:38) \n[GCC 9.3.0]\n"
     ]
    }
   ],
   "source": [
    "# Versão do Python\n",
    "import sys\n",
    "\n",
    "print(sys.version)"
   ]
  },
  {
   "cell_type": "code",
   "execution_count": 0,
   "metadata": {
    "application/vnd.databricks.v1+cell": {
     "cellMetadata": {
      "byteLimit": 2048000,
      "rowLimit": 10000
     },
     "inputWidgets": {},
     "nuid": "dd2553ce-cee7-412f-8d32-cf5788f6bd60",
     "showTitle": false,
     "title": ""
    }
   },
   "outputs": [
    {
     "output_type": "stream",
     "name": "stdout",
     "output_type": "stream",
     "text": [
      "3.3.2\n"
     ]
    }
   ],
   "source": [
    "# Versão do Spark Context\n",
    "print(sc.version)"
   ]
  },
  {
   "cell_type": "code",
   "execution_count": 0,
   "metadata": {
    "application/vnd.databricks.v1+cell": {
     "cellMetadata": {
      "byteLimit": 2048000,
      "rowLimit": 10000
     },
     "inputWidgets": {},
     "nuid": "b4d591e8-063f-4096-98b5-3734a2141af2",
     "showTitle": false,
     "title": ""
    }
   },
   "outputs": [],
   "source": [
    "# Criando um RDD com 6 elementos, seria a transformação de uma lista emPython para um RDD paralelizado\n",
    "paises = [\"Brasil\", \"Italia\", \"Russia\", \"Noruega\", \"Espanha\", \"Mexico\"]\n",
    "dadosrdd = spark.sparkContext.parallelize(paises)"
   ]
  },
  {
   "cell_type": "code",
   "execution_count": 0,
   "metadata": {
    "application/vnd.databricks.v1+cell": {
     "cellMetadata": {
      "byteLimit": 2048000,
      "rowLimit": 10000
     },
     "inputWidgets": {},
     "nuid": "1277c899-b53f-481c-96a8-f23f9427861a",
     "showTitle": false,
     "title": ""
    }
   },
   "outputs": [
    {
     "output_type": "stream",
     "name": "stdout",
     "output_type": "stream",
     "text": [
      "Out[9]: ['Brasil', 'Italia', 'Russia', 'Noruega', 'Espanha', 'Mexico']"
     ]
    }
   ],
   "source": [
    "# Exibição de uma coleção, ou seja, todos os dados gravados no RDD sobre países\n",
    "dadosrdd.collect()"
   ]
  },
  {
   "cell_type": "code",
   "execution_count": 0,
   "metadata": {
    "application/vnd.databricks.v1+cell": {
     "cellMetadata": {
      "byteLimit": 2048000,
      "rowLimit": 10000
     },
     "inputWidgets": {},
     "nuid": "f66cd91c-fbf9-4061-b1d6-11fc1d3c4ac6",
     "showTitle": false,
     "title": ""
    }
   },
   "outputs": [
    {
     "output_type": "stream",
     "name": "stdout",
     "output_type": "stream",
     "text": [
      "Out[10]: 6"
     ]
    }
   ],
   "source": [
    "# Conta a quantidade de elementos presentes no RDD sobre países\n",
    "dadosrdd.count()"
   ]
  },
  {
   "cell_type": "code",
   "execution_count": 0,
   "metadata": {
    "application/vnd.databricks.v1+cell": {
     "cellMetadata": {
      "byteLimit": 2048000,
      "rowLimit": 10000
     },
     "inputWidgets": {},
     "nuid": "a7c6fed9-b306-4e95-98d2-a6bd71074150",
     "showTitle": false,
     "title": ""
    }
   },
   "outputs": [
    {
     "output_type": "stream",
     "name": "stdout",
     "output_type": "stream",
     "text": [
      "Partições: 8\n"
     ]
    }
   ],
   "source": [
    "# Exibindo a quantidade de partições\n",
    "dadosrdd2 = spark.sparkContext.parallelize(paises)\n",
    "print(\"Partições: \" + str(dadosrdd2.getNumPartitions()))"
   ]
  },
  {
   "cell_type": "code",
   "execution_count": 0,
   "metadata": {
    "application/vnd.databricks.v1+cell": {
     "cellMetadata": {
      "byteLimit": 2048000,
      "rowLimit": 10000
     },
     "inputWidgets": {},
     "nuid": "57767486-942d-4559-b714-f0f4710aec0a",
     "showTitle": false,
     "title": ""
    }
   },
   "outputs": [
    {
     "output_type": "stream",
     "name": "stdout",
     "output_type": "stream",
     "text": [
      "Partições Paralelas: 5\n"
     ]
    }
   ],
   "source": [
    "# Froçando a quantidade de patições em 5\n",
    "dadosrdd3 = spark.sparkContext.parallelize(paises, 5)\n",
    "print(\"Partições Paralelas: \" + str(dadosrdd3.getNumPartitions()))"
   ]
  },
  {
   "cell_type": "code",
   "execution_count": 0,
   "metadata": {
    "application/vnd.databricks.v1+cell": {
     "cellMetadata": {
      "byteLimit": 2048000,
      "rowLimit": 10000
     },
     "inputWidgets": {},
     "nuid": "c68fe207-2526-4a30-92b9-346284baaa13",
     "showTitle": false,
     "title": ""
    }
   },
   "outputs": [],
   "source": [
    "# Carregando um arquivo externo para um RDD\n",
    "food = spark.sparkContext.textFile(\"/FileStore/food_coded.csv\")"
   ]
  },
  {
   "cell_type": "code",
   "execution_count": 0,
   "metadata": {
    "application/vnd.databricks.v1+cell": {
     "cellMetadata": {
      "byteLimit": 2048000,
      "rowLimit": 10000
     },
     "inputWidgets": {},
     "nuid": "ece826b1-a235-44a5-b413-bef487b1afe3",
     "showTitle": false,
     "title": ""
    }
   },
   "outputs": [
    {
     "output_type": "stream",
     "name": "stdout",
     "output_type": "stream",
     "text": [
      "Out[14]: ['GPA,Gender,breakfast,calories_chicken,calories_day,calories_scone,coffee,comfort_food,comfort_food_reasons,comfort_food_reasons_coded,cook,comfort_food_reasons_coded,cuisine,diet_current,diet_current_coded,drink,eating_changes,eating_changes_coded,eating_changes_coded1,eating_out,employment,ethnic_food,exercise,father_education,father_profession,fav_cuisine,fav_cuisine_coded,fav_food,food_childhood,fries,fruit_day,grade_level,greek_food,healthy_feeling,healthy_meal,ideal_diet,ideal_diet_coded,income,indian_food,italian_food,life_rewarding,marital_status,meals_dinner_friend,mother_education,mother_profession,nutritional_check,on_off_campus,parents_cook,pay_meal_out,persian_food,self_perception_weight,soup,sports,thai_food,tortilla_calories,turkey_calories,type_sports,veggies_day,vitamins,waffle_calories,weight',\n '2.4,2,1,430,nan,315,1,none,we dont have comfort ,9,2,9,nan,eat good and exercise,1,1,eat faster ,1,1,3,3,1,1,5,profesor ,Arabic cuisine,3,1,rice  and chicken ,2,5,2,5,2,looks not oily ,being healthy ,8,5,5,5,1,1,\"rice, chicken,  soup\",1,unemployed,5,1,1,2,5,3,1,1,1,1165,345,car racing,5,1,1315,187',\n '3.654,1,1,610,3,420,2,\"chocolate, chips, ice cream\",\"Stress, bored, anger\",1,3,1,1,I eat about three times a day with some snacks. I try to eat healthy but it doesn\\'t always work out that- sometimes eat fast food and mainly eat at Laker/ Egan ,2,2,I eat out more than usual. ,1,2,2,2,4,1,2,Self employed ,Italian,1,1,\"chicken and biscuits, beef soup, baked beans\",1,4,4,4,5,\"Grains, Veggies, (more of grains and veggies), small protein and fruit with dairy \",\"Try to eat 5-6 small meals a day. While trying to properly distribute carbs, protein, fruits, veggies, and dairy.  \",3,4,4,4,1,2,\"Pasta, steak, chicken \",4,Nurse RN ,4,1,1,4,4,3,1,1,2,725,690,Basketball ,4,2,900,155',\n '3.3,1,1,720,4,420,2,\"frozen yogurt, pizza, fast food\",\"stress, sadness\",1,1,1,3,\"toast and fruit for breakfast, salad for lunch, usually grilled chicken and veggies (or some variation) for dinner\",3,1,sometimes choosing to eat fast food instead of cooking simply for convenience,1,3,2,3,5,2,2,owns business,italian,1,3,\"mac and cheese, pizza, tacos\",1,5,3,5,6,usually includes natural ingredients; nonprocessed food,i would say my ideal diet is my current diet,6,6,5,5,7,2,\"chicken and rice with veggies, pasta, some kind of healthy recipe\",2,owns business,4,2,1,3,5,6,1,2,5,1165,500,none,5,1,900,I\\'m not answering this. ',\n '3.2,1,1,430,3,420,2,\"Pizza, Mac and cheese, ice cream\",Boredom,2,2,2,2,\"College diet, cheap and easy foods most nights. Weekends traditionally, cook better homemade meals  \",2,2,Accepting cheap and premade/store bought foods,1,3,2,3,5,3,2,Mechanic ,Turkish ,3,1,\"Beef stroganoff, tacos, pizza\",2,4,4,5,7,\"Fresh fruits& vegetables, organic meats \",\"Healthy, fresh veggies/fruits & organic foods \",2,6,5,5,2,2,\"Grilled chicken ']"
     ]
    }
   ],
   "source": [
    "# Mostrando os 5 primeiros elementos do RDD, note que o cabeçalho também está disponível\n",
    "food.take(5)"
   ]
  },
  {
   "cell_type": "code",
   "execution_count": 0,
   "metadata": {
    "application/vnd.databricks.v1+cell": {
     "cellMetadata": {
      "byteLimit": 2048000,
      "rowLimit": 10000
     },
     "inputWidgets": {},
     "nuid": "34d9b87b-4ab5-4f9e-add7-82bd50e98178",
     "showTitle": false,
     "title": ""
    }
   },
   "outputs": [],
   "source": [
    "# Será criado um RDD lendo os dados de um arquivo .csv de uma forma diferente, utilizando o Spark Context (sc)\n",
    "# Arquivo sobre dados de alimentos\n",
    "food2 = sc.textFile(\"/FileStore/food_coded.csv\")"
   ]
  },
  {
   "cell_type": "code",
   "execution_count": 0,
   "metadata": {
    "application/vnd.databricks.v1+cell": {
     "cellMetadata": {
      "byteLimit": 2048000,
      "rowLimit": 10000
     },
     "inputWidgets": {},
     "nuid": "2fb490d2-a76e-48b3-beab-180204fc0275",
     "showTitle": false,
     "title": ""
    }
   },
   "outputs": [
    {
     "output_type": "stream",
     "name": "stdout",
     "output_type": "stream",
     "text": [
      "Out[2]: ['GPA,Gender,breakfast,calories_chicken,calories_day,calories_scone,coffee,comfort_food,comfort_food_reasons,comfort_food_reasons_coded,cook,comfort_food_reasons_coded,cuisine,diet_current,diet_current_coded,drink,eating_changes,eating_changes_coded,eating_changes_coded1,eating_out,employment,ethnic_food,exercise,father_education,father_profession,fav_cuisine,fav_cuisine_coded,fav_food,food_childhood,fries,fruit_day,grade_level,greek_food,healthy_feeling,healthy_meal,ideal_diet,ideal_diet_coded,income,indian_food,italian_food,life_rewarding,marital_status,meals_dinner_friend,mother_education,mother_profession,nutritional_check,on_off_campus,parents_cook,pay_meal_out,persian_food,self_perception_weight,soup,sports,thai_food,tortilla_calories,turkey_calories,type_sports,veggies_day,vitamins,waffle_calories,weight',\n '2.4,2,1,430,nan,315,1,none,we dont have comfort ,9,2,9,nan,eat good and exercise,1,1,eat faster ,1,1,3,3,1,1,5,profesor ,Arabic cuisine,3,1,rice  and chicken ,2,5,2,5,2,looks not oily ,being healthy ,8,5,5,5,1,1,\"rice, chicken,  soup\",1,unemployed,5,1,1,2,5,3,1,1,1,1165,345,car racing,5,1,1315,187',\n '3.654,1,1,610,3,420,2,\"chocolate, chips, ice cream\",\"Stress, bored, anger\",1,3,1,1,I eat about three times a day with some snacks. I try to eat healthy but it doesn\\'t always work out that- sometimes eat fast food and mainly eat at Laker/ Egan ,2,2,I eat out more than usual. ,1,2,2,2,4,1,2,Self employed ,Italian,1,1,\"chicken and biscuits, beef soup, baked beans\",1,4,4,4,5,\"Grains, Veggies, (more of grains and veggies), small protein and fruit with dairy \",\"Try to eat 5-6 small meals a day. While trying to properly distribute carbs, protein, fruits, veggies, and dairy.  \",3,4,4,4,1,2,\"Pasta, steak, chicken \",4,Nurse RN ,4,1,1,4,4,3,1,1,2,725,690,Basketball ,4,2,900,155',\n '3.3,1,1,720,4,420,2,\"frozen yogurt, pizza, fast food\",\"stress, sadness\",1,1,1,3,\"toast and fruit for breakfast, salad for lunch, usually grilled chicken and veggies (or some variation) for dinner\",3,1,sometimes choosing to eat fast food instead of cooking simply for convenience,1,3,2,3,5,2,2,owns business,italian,1,3,\"mac and cheese, pizza, tacos\",1,5,3,5,6,usually includes natural ingredients; nonprocessed food,i would say my ideal diet is my current diet,6,6,5,5,7,2,\"chicken and rice with veggies, pasta, some kind of healthy recipe\",2,owns business,4,2,1,3,5,6,1,2,5,1165,500,none,5,1,900,I\\'m not answering this. ',\n '3.2,1,1,430,3,420,2,\"Pizza, Mac and cheese, ice cream\",Boredom,2,2,2,2,\"College diet, cheap and easy foods most nights. Weekends traditionally, cook better homemade meals  \",2,2,Accepting cheap and premade/store bought foods,1,3,2,3,5,3,2,Mechanic ,Turkish ,3,1,\"Beef stroganoff, tacos, pizza\",2,4,4,5,7,\"Fresh fruits& vegetables, organic meats \",\"Healthy, fresh veggies/fruits & organic foods \",2,6,5,5,2,2,\"Grilled chicken ']"
     ]
    }
   ],
   "source": [
    "# Mostrando os 5 primeiros elementos do RDD, que foi carregado utilizando o Spark Context\n",
    "food2.take(5)"
   ]
  },
  {
   "cell_type": "code",
   "execution_count": 0,
   "metadata": {
    "application/vnd.databricks.v1+cell": {
     "cellMetadata": {
      "byteLimit": 2048000,
      "rowLimit": 10000
     },
     "inputWidgets": {},
     "nuid": "75b97ba0-2ca1-467f-8a43-312f06288252",
     "showTitle": false,
     "title": ""
    }
   },
   "outputs": [],
   "source": [
    "# Salvando os dados na pasta, extraindo dados do RDD para um arquivo\n",
    "# Salvando os dados na pasta, extraindo dados do RDD para um arquivo\n",
    "# Convertendo os dados em uma lista de strings\n",
    "dados = food.take(5)\n",
    "\n",
    "dados_str = [\";\".join(map(str, linha)) for linha in dados]\n",
    "\n",
    "# Criando um RDD a partir da lista de strings\n",
    "rdd_dados = sc.parallelize(dados_str)\n",
    "\n",
    "# Definindo o caminho do arquivo CSV\n",
    "caminho_arquivo = \"/FileStore/5primeiros.csv\"\n",
    "\n",
    "# Salvando o RDD como um arquivo de texto\n",
    "rdd_dados.saveAsTextFile(caminho_arquivo)"
   ]
  },
  {
   "cell_type": "code",
   "execution_count": 0,
   "metadata": {
    "application/vnd.databricks.v1+cell": {
     "cellMetadata": {
      "byteLimit": 2048000,
      "rowLimit": 10000
     },
     "inputWidgets": {},
     "nuid": "5adbe649-2ad4-460d-9e37-a4c8b8005d44",
     "showTitle": false,
     "title": ""
    }
   },
   "outputs": [
    {
     "output_type": "stream",
     "name": "stdout",
     "output_type": "stream",
     "text": [
      "Out[17]: 'GPA,Gender,breakfast,calories_chicken,calories_day,calories_scone,coffee,comfort_food,comfort_food_reasons,comfort_food_reasons_coded,cook,comfort_food_reasons_coded,cuisine,diet_current,diet_current_coded,drink,eating_changes,eating_changes_coded,eating_changes_coded1,eating_out,employment,ethnic_food,exercise,father_education,father_profession,fav_cuisine,fav_cuisine_coded,fav_food,food_childhood,fries,fruit_day,grade_level,greek_food,healthy_feeling,healthy_meal,ideal_diet,ideal_diet_coded,income,indian_food,italian_food,life_rewarding,marital_status,meals_dinner_friend,mother_education,mother_profession,nutritional_check,on_off_campus,parents_cook,pay_meal_out,persian_food,self_perception_weight,soup,sports,thai_food,tortilla_calories,turkey_calories,type_sports,veggies_day,vitamins,waffle_calories,weight'"
     ]
    }
   ],
   "source": [
    "# Exibindo o primeiro dado dentro do RDD\n",
    "food.first()"
   ]
  },
  {
   "cell_type": "code",
   "execution_count": 0,
   "metadata": {
    "application/vnd.databricks.v1+cell": {
     "cellMetadata": {
      "byteLimit": 2048000,
      "rowLimit": 10000
     },
     "inputWidgets": {},
     "nuid": "b1d50851-2561-46c7-859e-f995f6828b99",
     "showTitle": false,
     "title": ""
    }
   },
   "outputs": [
    {
     "output_type": "stream",
     "name": "stdout",
     "output_type": "stream",
     "text": [
      "Out[18]: 138"
     ]
    }
   ],
   "source": [
    "# Determinando a quantidade de elementos, subtraindo de -1 para retirar o cabeçalho\n",
    "food.count() -1"
   ]
  },
  {
   "cell_type": "code",
   "execution_count": 0,
   "metadata": {
    "application/vnd.databricks.v1+cell": {
     "cellMetadata": {
      "byteLimit": 2048000,
      "rowLimit": 10000
     },
     "inputWidgets": {},
     "nuid": "5949021f-2906-4cc9-9082-adc567dd7c91",
     "showTitle": false,
     "title": ""
    }
   },
   "outputs": [
    {
     "output_type": "stream",
     "name": "stdout",
     "output_type": "stream",
     "text": [
      "Out[19]: ['2.4,2,1,430,nan,315,1,none,we dont have comfort ,9,2,9,nan,eat good and exercise,1,1,eat faster ,1,1,3,3,1,1,5,profesor ,Arabic cuisine,3,1,rice  and chicken ,2,5,2,5,2,looks not oily ,being healthy ,8,5,5,5,1,1,\"rice, chicken,  soup\",1,unemployed,5,1,1,2,5,3,1,1,1,1165,345,car racing,5,1,1315,187',\n '3.3,1,1,720,4,420,2,\"frozen yogurt, pizza, fast food\",\"stress, sadness\",1,1,1,3,\"toast and fruit for breakfast, salad for lunch, usually grilled chicken and veggies (or some variation) for dinner\",3,1,sometimes choosing to eat fast food instead of cooking simply for convenience,1,3,2,3,5,2,2,owns business,italian,1,3,\"mac and cheese, pizza, tacos\",1,5,3,5,6,usually includes natural ingredients; nonprocessed food,i would say my ideal diet is my current diet,6,6,5,5,7,2,\"chicken and rice with veggies, pasta, some kind of healthy recipe\",2,owns business,4,2,1,3,5,6,1,2,5,1165,500,none,5,1,900,I\\'m not answering this. ',\n '3.5,1,1,720,2,420,2,\"Ice cream, chocolate, chips \",\"Stress, boredom, cravings \",1,1,1,2,I try to eat healthy but often struggle because of living on campus. I still try to keep the choices I do make balanced with fruits and vegetables and limit the sweats. ,2,2,I have eaten generally the same foods but I do find myself eating the same food frequently due to what I have found I like from egan and the laker. ,3,4,2,2,4,1,4,IT,Italian ,1,3,\"Pasta, chicken tender, pizza \",1,4,4,4,6,\"A lean protein such as grilled chicken, green vegetables and  brown rice or other whole grain \",Ideally I would like to be able to eat healthier foods in order to loose weight. ,2,6,2,5,1,1,\"Chicken Parmesan, Pulled Pork, Spaghetti and meatballs \",5,Substance Abuse Conselor,3,1,1,4,2,4,1,1,4,940,500,Softball,4,2,760,190',\n '2.25,1,1,610,3,980,2,\"Candy, brownies and soda.\",\"None, i don\\'t eat comfort food. I just eat when i\\'m hungry.\",4,3,4,nan,My current diet is terrible. I barely have time to eat a meal in a day. When i do eat it\\'s mostly not healthy.,2,2,Eating rice everyday. Eating less homemade food.,1,3,1,3,4,2,1,Taxi Driver,African,6,3,\"Fries, plaintain & fried fish\",1,2,2,2,4,\"Requires veggies, fruits and a cooked meal. \",My ideal diet is to eat 3 times a day including breakfast on time. Eat healthy food. ,2,1,5,5,4,2,Anything they\\'d want. I\\'d ask them before hand what they want to eat and it depends on which type of friend is coming.,1,Hair Braider,1,1,2,5,5,5,1,2,4,940,345,None.,1,2,1315,190',\n '3.3,1,1,430,3,315,2,\"Mac and cheese, chocolate, and pasta \",\"Stress, anger and sadness \",1,3,1,1,\"I eat healthy all the time when possible. I treat myself occasionally. I don\\'t really like the greasy meals, if anything I would eat sweets over the greasy meals.  \",1,1,I cook a lot of my own foods back at home so not being able to cook my own healthy choices. I eat more carbs than normal when I\\'m at college due to the choices given in the cafe. ,1,3,3,3,5,1,5,commissioner of erie county ,Italian ,1,1,\"Pasta, Eggs, Pancakes \",1,5,1,5,3,Chicken and rice with a side of veggies. ,\"Lots of protein, carbs, and fruits and veggies. \",2,4,4,5,3,2,pasta salad and bread,5,Pharmaceutical rep,5,1,3,3,4,3,1,1,4,580,345,field hockey,5,1,900,125',\n '3.6,1,1,610,3,420,2,\"ice cream, cake, chocolate\",\"stress,  boredom, special occasions\",1,2,1,1,Not as healthy when I am at school compared to home. Still very aware of the nutrition I am taking in.,2,2,not as healthy because healthy food goes bad quickly and it is expensive,1,3,4,2,5,2,2,business owner,italian,1,1,\"steak, lasagna, crab\",1,5,3,4,8,Lots of vegetabls with some grains like rice. Also has lean meat such as fish or chicken.,organic/healthy. fruits and vegetables but still protein to give sustainance. ,2,5,3,5,10,2,\"pasta, chicken, steak\",4,business owner,2,2,2,3,3,3,1,1,5,1165,850,intramural volleyball,5,2,1315,123',\n '3.1,2,1,610,3,420,2,\"Pizza, fruit, spaghetti, chicken and Potatoes  \",\"Friends, environment and boredom\",2,3,2,1,\"Making sure I have enough protein intake, as well with fibre, vitamins and carbs. \",1,2,\"I knew I would eat alot my freshmen year, before coming to college i had a diet plan. \",3,4,2,3,4,2,4,Commidity trader ,Chinese ,4,3,Pizza,1,5,3,4,2,Green and not greasy,\"Eat a little less than I usually do, and intaking more protein. \",1,5,2,3,1,1,\"Pizza, chicken and rice, roast beef.\",4,Charity worker,2,2,2,3,1,3,1,1,4,940,500,Hockey,5,1,900,185',\n 'nan,2,2,430,nan,980,2,\"cookies, donuts, candy bars\",boredom,2,4,2,1,I like a lot of foods that arent home cooked or healthy for you.,2,2,none,3,4,4,3,1,1,5,Hockey Coach,italian food,1,2,pizza,1,3,1,1,6,\"chicken, veggies, rice\",I wish I ate lots of healthy foods like veggies and salads. ,2,4,1,5,nan,2,pizza buffalo chicken pasta,4,Librarian,1,1,2,3,1,2,2,1,1,940,345,Hockey,1,2,1315,180',\n '3.6,2,1,430,3,980,2,\"chips, cookies, ice cream\",\"I usually only eat comfort food when I\\'m bored, if i am doing something, i can go for hours without eating \",2,3,2,1,My current diet is eggs and a meat every morning for breakfast. For lunch ill usually have some pasta or rice with a meat and sometimes a side of veggies. for dinner i usually eat less carbs and more protein and veggies. ,3,2,\"I would say i just eat a little more, but not in a bad way. I have unlimited swipes at the cafe so instead of snacking on chips before lunch or dinner i will get something from the cafe.\",1,2,2,3,4,1,2,self employed construction ,American or Italian ,5,3,\"chicken fingers, steak, mac and cheese\",1,3,1,3,8,\"for me usually a big piece of chicken or steak with a side of veggies, and i usually have rice with mine as well\",\"I like how my diet it now. However, after my season i am going to cut back on some carbs because i won\\'t be working out as much.\",1,6,3,5,7,2,Grilled chicken or steak with veggies and rice. or some type of pasta and chicken ,2,stay at home mom,4,1,1,6,2,2,1,1,3,940,500,hockey,4,2,900,170',\n '2.2,2,1,430,2,420,2,\"pizza, wings, Chinese\",\"boredom, sadness, hungry\",2,4,2,1,Current diet right now isn\\'t very good. I eat at the school\\'s cafeteria and they do not have the best choices.,2,2,None really,3,4,2,3,3,2,5,architect,Italian,1,1,manacotti,1,2,1,3,4,\"lots of fruits and vegitibles, not any fried foods\",Something that tastes good and also is good for you. This is very hard to find though.,3,5,2,5,7,1,\"chicken, manicotti, rice\",4,physical therapist,1,1,1,3,3,4,1,nan,3,940,345,basketball,2,2,900,165',\n '3.9,1,1,720,2,420,2,\"Soup, pasta, brownies, cake\",\"A long day, not feeling well, winter \",6,1,6,1,I eat a lot of chicken and try to cook my own meals as much as possible using a lot of rice and vegetables.,1,2,\"I watch the amount of \"\"snacks\"\" I eat more than I did in high school.\",1,2,4,3,4,nan,3,Manager at Pepsi,Chinese,4,1,Spaghetti ,1,4,3,5,5,A healthy meal is a lean meat with mostly vegetables and a starch like brown rice or quinoa.,I would like to be a person to eat a larger vegetable based diet with little to no processed products in my diet especially sugar and salt.,2,4,3,5,2,2,\"Pasta, chicken and rice, and soup\",2,Unemployed,2,1,1,3,3,4,2,2,4,940,500,none,4,2,1315,105',\n '3.7,2,1,610,2,420,1,\"Chips, ice cream, microwaveable foods \",\"Boredom, lazyniss \",2,3,2,1,\"Most healthy diet, but since I\\'m an athlete have room for some bad foods to burn off quickly \",1,1,Tend to eat more fried foods ,1,3,2,2,2,1,4,Beverage and Food Sales,Italian food ,1,1,\"Chicken Parm, Pizza \",1,3,2,1,9,\"A rice, a vegetable, a piece of meat \",\"Very healthy diet, and to cook at home with organic foods. \",5,5,1,5,9,2,Chicken parm ,2,Doctors Billing Assiant ,2,1,1,4,1,2,2,1,2,1165,850,Hockey,3,2,1315,160',\n '3,1,1,610,2,420,2,\"mac n cheese, peanut butter and banana sandwich, omelet\",Boredom usually,2,1,2,1,\"A lot of rice and veggies, eggs for breakfast, chicken is usually the only kind of meat I eat.\",3,1,My diet is more limited just because of what I have time to make,1,3,2,3,2,1,4,Owns his own promotional company ,American or Italian,5,1,\"chicken, pasta, stir fry\",1,5,3,3,2,\"Some kind of protein, a vegetable, and a grain\",Pretty much what I eat now,6,4,1,5,3,2,\"Some kind of pasta, a chicken dish, some kind of salad\",4,Works in retail,2,2,1,3,2,2,1,1,2,940,690,Lacrosse,5,2,760,150',\n '3.7,1,1,610,3,420,2,\"pizza, doughnuts, mcdonalds \",boredom,2,3,2,nan,\"I eat out more often then not. I try to make sure when I eat out it isn\\'t fast food, but instead something healthy like Panera. \",2,2,I do not snack as often at school. I find that I\\'m always busy so sometimes I don\\'t have a lot of time to eat. ,1,8,4,2,4,1,5,Optometrist ,Italian or Chinese ,1,3,\"pizza, pasta, grilled cheese \",1,5,2,3,7,\"a meal with a meat, vegetable, grain, and fruit \",I wish I had the time and energy to cook more at home on my own. ,5,6,2,5,7,1,\"spaghetti or pasta, shrimp fried rice, chicken \",2,Homemaker ,3,1,2,3,1,4,2,1,2,1165,500,Softball ,5,2,900,150',\n '3.6,1,1,610,3,420,2,\"ice cream, cookie dough, cookies, cheese\",\"Boredom!, sadness\",2,4,2,1,\"Light breakfast, yogurt or grandola bar. No luch but (healthy) snacks throughout this time period until dinner. Full dinner with meat, vegetables and fruit.\",2,2,I do not make my own food,1,3,2,2,3,nan,4,Design Engineer,Italian,1,1,\"French Toast, Grilled Cheese, Orange Chicken\",1,5,2,5,6,\"Grilled chicken, side salad, rice and broccoli and cranberries\",Same as above but with a more concrete lunch. Cut down on excessive snacking. ,1,6,4,5,7,1,\"Pancakes, Pasta, Grilled Cheese and Soup\",4,Account Clerical ,1,1,2,3,2,3,1,2,4,940,500,nan,4,2,900,135',\n '3.3,2,1,610,4,420,2,\"Pizza, chocolate, and ice cream \",\"Boredom, sadness and anger \",2,1,2,1,My diet is mostly chicken rice and veggies. I mix in fruit between workouts and snacks like power bars and what not. ,3,1,I eat very bad on the weekends. ,1,3,5,nan,4,1,3,UPS driver ,Mexican ,2,1,\"Grilled chicken, pasta, and turkey \",1,5,2,5,1,Low carbs and high protein ,One that maintains my goal weight. But also produces enough daily energy. ,3,5,3,5,5,1,Chicken Parm,2,Unemployed ,5,1,1,3,3,2,2,1,3,1165,500,Lacrosse ,5,2,900,200',\n '3.5,1,1,610,3,420,2,\"Chocolate, ice cream, pasta\",\"Stress, boredom, sadness\",1,1,1,2,\"For breakfast I have oatmeal. For lunch I have a sandwich and fruit. For dinner I usually have a piece of meat, rice or pasta, and a vegetable. \",3,2,More easy meals like pasta.,1,11,2,2,5,2,4,Physical Therapist,Mexican,2,1,Steak,2,5,3,5,4,\"Fruit, vegetables, and protien\",Ideally my diet would be similar to what I eat now. If I wasn\\'t on a college budget I could spend more money on nicer meat and vegetables which would make my meals a lot better.,6,5,5,5,1,1,\"steak, noodles, edemame\",5,Elementary School Principal,2,2,1,4,4,3,1,1,5,1165,690,Skiing,5,1,1315,155',\n '3.7,1,1,610,nan,420,2,Mac n Cheese. Chips and salsa. Ice cream. ,Boredom. Celebration. ,2,2,2,1,Simple breakfast of cereal or yogurt. Lunch is something like a deli meat sandwich. Dinner is a full meal. Veggies meat and starch. ,3,2,More snacking ,1,11,2,3,5,nan,4,Insurance ,Italian ,1,3,Mac and cheese ,1,5,4,5,7,Proper serving sizes of almost anything ,Less cheese than I eat. ,1,6,5,5,10,1,Steak and veggies. Chicken and rice. Stirfry. ,4,Real Estate Agent ,2,2,2,3,4,3,2,1,5,1165,500,skiing ,4,2,1315,155',\n '3.5,1,1,610,3,420,1,\"cookies, nutella, ice cream, coffee, fruit \",\"Bordem, happiness, sadness\",2,1,2,1,\"I eat fruit and vetagables with every meal. I only drink water, no soda. I tend to stay away from greasy food. \",1,1,\"I ate more junk food, but also more fruit. \",1,3,3,2,4,1,2,Owner of New York Lunch,Chinese cuisine (General Tso\\'s),4,3,\"chicken stir fry, spaghetti, chicken parmesan \",1,5,2,4,3,Meal prep\\'d foods with food from each section on the food pyramid. ,\"I want to eliminate all the junk food I ate. Besides that, I want to keep my diet the same. \",5,2,3,5,1,2,1. pasta 2. spaghetti 3. chicken and rice ,2,CNA ,4,1,1,2,3,4,2,1,3,940,500,Volleyball,5,1,760,140',\n '3.79 bitch,2,1,720,4,420,2,\"Chips, ice cream\",\"Boredom, stress\",2,1,2,1,I have a diet of meats and other high protein foods. ,2,2,I stopped drinking soda and only drink water now,2,12,4,3,3,1,4,Risk Manager,Mexican,2,1,Pizza,1,3,2,3,1,\"Protein source, vegetables, fruits, whole grains\",A balanced diet with each food group. Getting enough protein and carbohydrates.,3,6,1,5,2,2,\"chipotle, chick fil a, chicken and rice\",2,Customer Service,5,3,1,3,1,3,1,1,2,1165,850,baseball,4,1,1315,200',\n '2.71,2,2,265,2,420,1,nan,nan,9,2,9,4,nan,4,2,nan,3,4,1,3,3,2,1,retire,nan,0,2,nan,1,4,3,3,8,nan,nan,8,3,3,3,10,4,\"rice and Chicken, sea food\",1,nan,2,2,3,5,3,3,1,2,3,580,345,nan,4,2,760,nan',\n '3,1,1,720,3,420,2,\"chocolate, fruit, and ice cream\",\"stress, boredom\",1,2,1,1,\"At school its hard but usually a granola bar and fruit for breakfast, a wrap for dinner or lunch, and then veggies and hummus.\",3,1,not going to Egan every meal maybe once a day,1,2,2,2,3,1,2,self employed,Japanese,4,1,\"tacos, pizza, chicken wing dip\",2,5,2,4,8,\"good portions of fruit, protein, veggies and carbs\",To eat moderations of every food group each day and no processed food,3,5,3,4,8,2,\"mexican chicken, hibachi chicken and rice, steak\",2,self employed,4,1,1,3,2,3,1,1,3,580,345,competitive skiing,4,1,1315,135',\n '3,1,1,610,3,420,2,\"Chinese food, moes, sponge candy, homemade lasagne \",\"boredom, sadness \",2,2,2,1,Eat fruits and vegetables daily and with almost every meal. Diet mostly consists of meat as well. ,1,2,Less snacking ,2,5,1,3,4,2,2,Service Technition,Chinese food,4,3,\"peanut butter and jelly, celery and peanut butter, hot pockets \",1,5,1,4,3,Small portion of meat with majority fruits or vegetables ,More organic food. Want to try and add more seafood into my diet.  ,5,6,4,5,1,1,\"Pizza, Chicken and rice and pasta\",4,Sales Manager at Business First,5,1,1,3,3,4,1,1,4,580,500,\"volleyball, lacrosse\",4,1,900,190',\n '3.75,2,1,610,3,420,2,\"candy, Chinese, mcdonalds\",laziness and hungover,5,2,5,nan,Complete diet. protein vegetables and carbs,1,2,I eat whatever is offered at egan or at the laker,1,3,2,nan,5,1,4,information systems architect,lebanese or greek,1,1,\"steak, spaghetti, salmon\",1,5,4,5,7,steak or salmon with broccoli or asparagus and brown rice or quinoa,High protein with lots of vegetables and fruit,7,6,5,5,6,2,\"salmon, steak, spaghetti squash\",4,teacher,4,1,1,3,5,3,1,1,5,940,690,\"hockey, soccer, golf\",5,1,1315,175',\n '3,1,1,720,3,420,2,\"ice cream, chips, candy\",\"Boredom, laziness, anger\",2,3,2,1,\"Since I am a college student I rarely cook full meals with protein, vegetables and starch. I usually just heat up leftovers from a restaurant or go eat casual food at the dining hall.\",2,2,I do not eat full meals. Rarely eat 3 meals a day. ,1,10,3,nan,4,2,4,Ford Plant employee,Italian,1,3,\"hot dogs, chicken fingers, mashed potatoes\",1,3,4,5,2,\"I think a healthy meals includes some kind of protein, preferably meat, vegetables, and a starch such as potatoes or rice\",\"My ideal diet right now would be how it was when I lived at home. I ate breakfast every morning, brought a lunch to school, and had a home cooked meal by my mom that included meat, vegetables and a starch. \",5,4,3,5,1,2,\"Chicken rice and asparagus, pizza, something easy in the crockpot\",3,Insurance Coordinator,2,2,1,5,4,3,2,1,3,1165,690,volleyball,2,2,1315,125',\n '3.2,2,1,610,3,420,2,\"chips, rice, chicken curry,\",\"Happiness, boredom, social event\",,2,7,5,\"My diet is mostly whatever I get to eat in the grotto commons. Sometimes, I eat outside\",2,1,Started eating a lot of protein rich food that i didnt before.,2,5,2,2,5,2,5,United Nations,Indian,8,3,\"pizza, burger, pasta\",1,5,4,5,7,A diet that is well balanced in most of the nutrients needed for the body.,Healthy balanced diet that tastes well.,3,2,5,5,6,2,\"Chicken, Rice, Vegetables\",5,Banker,2,1,1,3,5,4,1,1,5,1165,690,Soccer,5,2,1315,185',\n '3.882,1,1,720,nan,420,1,\"rice, potato, seaweed soup\",sadness,,3,3,nan,\"Rice, oatmeal, and tea\",2,1,less rice,1,3,3,3,5,2,5,CEO of company,Korean,4,1,Rice and potato,1,4,3,5,6,lots of vegetables,lots of veggies,2,2,5,3,10,1,\"meat, rice, kimchi\",1,Real Estate manageer,3,1,2,4,5,4,1,2,5,580,690,none,4,2,1315,120',\n '3.9,1,1,430,nan,315,2,\"Chocolates, pizza, and Ritz.\",\"hormones, Premenstrual syndrome.\",,nan,5,3,high in protein and low in carbohydrates.,1,1,I have learned to eat more vegetables. ,2,5,1,2,3,2,4,Journalist,HISPANIC CUISINE.,2,1,\"rice, beans, and chicken / pizza/ tenders\",1,3,3,2,3,\"a cup of rice, vegetables, and meat. \",\"Being able to balance between sweets, vegetables, fruits, carbohydrates, and fat.\",3,5,2,3,5,2,\"Vegetables, Meat, and rice.\",3,House-wife,5,1,3,3,2,3,1,2,2,725,345,nan,4,2,575,135']"
     ]
    }
   ],
   "source": [
    "# Pesquisa uma palavra dentro do grupo de dados\n",
    "filtro_palavra = food.filter(lambda x: 'rice' in x)\n",
    "filtro_palavra.collect()"
   ]
  },
  {
   "cell_type": "code",
   "execution_count": 0,
   "metadata": {
    "application/vnd.databricks.v1+cell": {
     "cellMetadata": {
      "byteLimit": 2048000,
      "rowLimit": 10000
     },
     "inputWidgets": {},
     "nuid": "6b50f608-f570-4752-a01e-950a43c59ce2",
     "showTitle": false,
     "title": ""
    }
   },
   "outputs": [
    {
     "output_type": "stream",
     "name": "stdout",
     "output_type": "stream",
     "text": [
      "Out[20]: /FileStore/food_coded.csv MapPartitionsRDD[8] at textFile at NativeMethodAccessorImpl.java:0"
     ]
    }
   ],
   "source": [
    "# Persistindo os dados em memória parta ficar mais rápido, se ouver muitos dados isso acelerará a pesquisa\n",
    "food.cache()"
   ]
  }
 ],
 "metadata": {
  "application/vnd.databricks.v1+notebook": {
   "dashboards": [],
   "environmentMetadata": null,
   "language": "python",
   "notebookMetadata": {
    "pythonIndentUnit": 2
   },
   "notebookName": "01_RDD",
   "widgets": {}
  }
 },
 "nbformat": 4,
 "nbformat_minor": 0
}
